{
 "cells": [
  {
   "cell_type": "code",
   "execution_count": 1,
   "id": "5e682965",
   "metadata": {},
   "outputs": [],
   "source": [
    "%matplotlib inline"
   ]
  },
  {
   "cell_type": "code",
   "execution_count": 7,
   "id": "01d89a8d",
   "metadata": {},
   "outputs": [],
   "source": [
    "import numpy as np\n",
    "import pandas as pd\n",
    "import matplotlib.pyplot as plt\n",
    "plt.rcParams['figure.figsize'] = (20.0,10.0)\n",
    "\n"
   ]
  },
  {
   "cell_type": "code",
   "execution_count": 14,
   "id": "14315bd4",
   "metadata": {},
   "outputs": [
    {
     "name": "stdout",
     "output_type": "stream",
     "text": [
      "(1000, 8)\n"
     ]
    },
    {
     "data": {
      "text/html": [
       "<div>\n",
       "<style scoped>\n",
       "    .dataframe tbody tr th:only-of-type {\n",
       "        vertical-align: middle;\n",
       "    }\n",
       "\n",
       "    .dataframe tbody tr th {\n",
       "        vertical-align: top;\n",
       "    }\n",
       "\n",
       "    .dataframe thead th {\n",
       "        text-align: right;\n",
       "    }\n",
       "</style>\n",
       "<table border=\"1\" class=\"dataframe\">\n",
       "  <thead>\n",
       "    <tr style=\"text-align: right;\">\n",
       "      <th></th>\n",
       "      <th>ID</th>\n",
       "      <th>Gender</th>\n",
       "      <th>Age</th>\n",
       "      <th>Extra_Curricular</th>\n",
       "      <th>Study_Hours</th>\n",
       "      <th>Annual_Income</th>\n",
       "      <th>Distance_From_Home</th>\n",
       "      <th>GPA</th>\n",
       "    </tr>\n",
       "  </thead>\n",
       "  <tbody>\n",
       "    <tr>\n",
       "      <th>0</th>\n",
       "      <td>8867</td>\n",
       "      <td>Male</td>\n",
       "      <td>22</td>\n",
       "      <td>Societies</td>\n",
       "      <td>10</td>\n",
       "      <td>1318792</td>\n",
       "      <td>154</td>\n",
       "      <td>1.76</td>\n",
       "    </tr>\n",
       "    <tr>\n",
       "      <th>1</th>\n",
       "      <td>1316</td>\n",
       "      <td>Female</td>\n",
       "      <td>24</td>\n",
       "      <td>Societies</td>\n",
       "      <td>9</td>\n",
       "      <td>874657</td>\n",
       "      <td>181</td>\n",
       "      <td>3.88</td>\n",
       "    </tr>\n",
       "    <tr>\n",
       "      <th>2</th>\n",
       "      <td>9443</td>\n",
       "      <td>Male</td>\n",
       "      <td>22</td>\n",
       "      <td>Societies</td>\n",
       "      <td>15</td>\n",
       "      <td>1098331</td>\n",
       "      <td>94</td>\n",
       "      <td>1.73</td>\n",
       "    </tr>\n",
       "    <tr>\n",
       "      <th>3</th>\n",
       "      <td>1829</td>\n",
       "      <td>Female</td>\n",
       "      <td>25</td>\n",
       "      <td>No</td>\n",
       "      <td>9</td>\n",
       "      <td>1680585</td>\n",
       "      <td>8</td>\n",
       "      <td>1.29</td>\n",
       "    </tr>\n",
       "    <tr>\n",
       "      <th>4</th>\n",
       "      <td>1989</td>\n",
       "      <td>Male</td>\n",
       "      <td>26</td>\n",
       "      <td>No</td>\n",
       "      <td>7</td>\n",
       "      <td>1361560</td>\n",
       "      <td>122</td>\n",
       "      <td>3.19</td>\n",
       "    </tr>\n",
       "  </tbody>\n",
       "</table>\n",
       "</div>"
      ],
      "text/plain": [
       "     ID  Gender  Age Extra_Curricular  Study_Hours  Annual_Income  \\\n",
       "0  8867    Male   22        Societies           10        1318792   \n",
       "1  1316  Female   24        Societies            9         874657   \n",
       "2  9443    Male   22        Societies           15        1098331   \n",
       "3  1829  Female   25               No            9        1680585   \n",
       "4  1989    Male   26               No            7        1361560   \n",
       "\n",
       "   Distance_From_Home   GPA  \n",
       "0                 154  1.76  \n",
       "1                 181  3.88  \n",
       "2                  94  1.73  \n",
       "3                   8  1.29  \n",
       "4                 122  3.19  "
      ]
     },
     "execution_count": 14,
     "metadata": {},
     "output_type": "execute_result"
    }
   ],
   "source": [
    "\n",
    "data = pd.read_csv('F:\\\\Machine Leanring\\\\machine Master\\\\slides\\\\CSV files\\\\GPA_data.CSV')\n",
    "print(data.shape)\n",
    "data.head()"
   ]
  },
  {
   "cell_type": "code",
   "execution_count": 16,
   "id": "ad3d424b",
   "metadata": {},
   "outputs": [],
   "source": [
    "#collecting x and y\n",
    "x = data['Distance_From_Home'].values\n",
    "y = data['GPA'].values"
   ]
  },
  {
   "cell_type": "code",
   "execution_count": 20,
   "id": "95c3a64e",
   "metadata": {},
   "outputs": [
    {
     "name": "stdout",
     "output_type": "stream",
     "text": [
      "-0.0005199528867903039 2.548138552848107\n"
     ]
    }
   ],
   "source": [
    "#Mean X and Y\n",
    "mean_x = np.mean(x)\n",
    "mean_y = np.mean(y)\n",
    "\n",
    "#Toatl number of values\n",
    "m = len(x)\n",
    "\n",
    "#using the formula to calculate b1 and b2\n",
    "numer = 0\n",
    "denom = 0\n",
    "for i in range(m):\n",
    "    numer +=(x[i] - mean_x)* (y[i]-mean_y)\n",
    "    denom +=(x[i]-mean_x)**2\n",
    "    \n",
    "b1=numer/denom\n",
    "b0= mean_y - (b1*mean_x)\n",
    "\n",
    "#print_cofficients\n",
    "print(b1,b0)"
   ]
  },
  {
   "cell_type": "code",
   "execution_count": null,
   "id": "d27a342c",
   "metadata": {},
   "outputs": [],
   "source": []
  }
 ],
 "metadata": {
  "kernelspec": {
   "display_name": "Python 3 (ipykernel)",
   "language": "python",
   "name": "python3"
  },
  "language_info": {
   "codemirror_mode": {
    "name": "ipython",
    "version": 3
   },
   "file_extension": ".py",
   "mimetype": "text/x-python",
   "name": "python",
   "nbconvert_exporter": "python",
   "pygments_lexer": "ipython3",
   "version": "3.11.4"
  }
 },
 "nbformat": 4,
 "nbformat_minor": 5
}
